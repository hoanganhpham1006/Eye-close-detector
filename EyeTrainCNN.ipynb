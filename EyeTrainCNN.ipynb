{
  "nbformat": 4,
  "nbformat_minor": 0,
  "metadata": {
    "colab": {
      "name": "EyeTrainCNN.ipynb",
      "version": "0.3.2",
      "views": {},
      "default_view": {},
      "provenance": [],
      "collapsed_sections": []
    },
    "kernelspec": {
      "name": "python3",
      "display_name": "Python 3"
    },
    "accelerator": "GPU"
  },
  "cells": [
    {
      "metadata": {
        "id": "kgOyakwbQFD0",
        "colab_type": "code",
        "colab": {
          "autoexec": {
            "startup": false,
            "wait_interval": 0
          },
          "base_uri": "https://localhost:8080/",
          "height": 105
        },
        "outputId": "3c29d5d1-cbfd-44a8-8860-51ca0440b941",
        "executionInfo": {
          "status": "ok",
          "timestamp": 1526518686504,
          "user_tz": -420,
          "elapsed": 15000,
          "user": {
            "displayName": "Hoang Anh Pham",
            "photoUrl": "//lh5.googleusercontent.com/-RsMYleIbivY/AAAAAAAAAAI/AAAAAAAAAyo/6fXeQuJdZqM/s50-c-k-no/photo.jpg",
            "userId": "110104664190971355713"
          }
        }
      },
      "cell_type": "code",
      "source": [
        "!apt-get install -y -qq software-properties-common python-software-properties module-init-tools\n",
        "!add-apt-repository -y ppa:alessandro-strada/ppa 2>&1 > /dev/null\n",
        "!apt-get update -qq 2>&1 > /dev/null\n",
        "!apt-get -y install -qq google-drive-ocamlfuse fuse\n",
        "from google.colab import auth\n",
        "auth.authenticate_user()\n",
        "from oauth2client.client import GoogleCredentials\n",
        "creds = GoogleCredentials.get_application_default()\n",
        "import getpass\n",
        "!google-drive-ocamlfuse -headless -id={creds.client_id} -secret={creds.client_secret} < /dev/null 2>&1 | grep URL\n",
        "vcode = getpass.getpass()\n",
        "!echo {vcode} | google-drive-ocamlfuse -headless -id={creds.client_id} -secret={creds.client_secret}"
      ],
      "execution_count": 1,
      "outputs": [
        {
          "output_type": "stream",
          "text": [
            "Please, open the following URL in a web browser: https://accounts.google.com/o/oauth2/auth?client_id=32555940559.apps.googleusercontent.com&redirect_uri=urn%3Aietf%3Awg%3Aoauth%3A2.0%3Aoob&scope=https%3A%2F%2Fwww.googleapis.com%2Fauth%2Fdrive&response_type=code&access_type=offline&approval_prompt=force\r\n",
            "··········\n",
            "Please, open the following URL in a web browser: https://accounts.google.com/o/oauth2/auth?client_id=32555940559.apps.googleusercontent.com&redirect_uri=urn%3Aietf%3Awg%3Aoauth%3A2.0%3Aoob&scope=https%3A%2F%2Fwww.googleapis.com%2Fauth%2Fdrive&response_type=code&access_type=offline&approval_prompt=force\n",
            "Please enter the verification code: Access token retrieved correctly.\n"
          ],
          "name": "stdout"
        }
      ]
    },
    {
      "metadata": {
        "id": "1x0BkLCzQKDB",
        "colab_type": "code",
        "colab": {
          "autoexec": {
            "startup": false,
            "wait_interval": 0
          }
        }
      },
      "cell_type": "code",
      "source": [
        "!mkdir -p drive\n",
        "!google-drive-ocamlfuse drive"
      ],
      "execution_count": 0,
      "outputs": []
    },
    {
      "metadata": {
        "id": "yxkXLobkQrSb",
        "colab_type": "code",
        "colab": {
          "autoexec": {
            "startup": false,
            "wait_interval": 0
          }
        }
      },
      "cell_type": "code",
      "source": [
        " import pickle\n",
        "from sklearn.model_selection import train_test_split\n",
        "import tensorflow as tf\n",
        "from keras.models import Sequential\n",
        "from keras.layers.core import Dense, Dropout, Activation, Flatten\n",
        "from keras.optimizers import SGD\n",
        "from keras.layers.convolutional import Convolution2D, MaxPooling2D\n",
        "import numpy as np\n",
        "import keras\n",
        "from keras.utils.np_utils import to_categorical\n",
        "import time\n",
        "from keras.callbacks import EarlyStopping"
      ],
      "execution_count": 0,
      "outputs": []
    },
    {
      "metadata": {
        "id": "HBob9H_LTPPD",
        "colab_type": "code",
        "colab": {
          "autoexec": {
            "startup": false,
            "wait_interval": 0
          }
        }
      },
      "cell_type": "code",
      "source": [
        "f = open(\"./drive/ColabNotebooks/Eye/train_data.pkl\", \"rb\")\n",
        "obj = pickle.load(f)"
      ],
      "execution_count": 0,
      "outputs": []
    },
    {
      "metadata": {
        "id": "FOUcGvfDTcvm",
        "colab_type": "code",
        "colab": {
          "autoexec": {
            "startup": false,
            "wait_interval": 0
          },
          "base_uri": "https://localhost:8080/",
          "height": 34
        },
        "outputId": "feb183e9-47bf-4774-ff42-d2571ad1ec66",
        "executionInfo": {
          "status": "ok",
          "timestamp": 1526521890048,
          "user_tz": -420,
          "elapsed": 1043,
          "user": {
            "displayName": "Hoang Anh Pham",
            "photoUrl": "//lh5.googleusercontent.com/-RsMYleIbivY/AAAAAAAAAAI/AAAAAAAAAyo/6fXeQuJdZqM/s50-c-k-no/photo.jpg",
            "userId": "110104664190971355713"
          }
        }
      },
      "cell_type": "code",
      "source": [
        "obj[0].shape, obj[1].shape"
      ],
      "execution_count": 31,
      "outputs": [
        {
          "output_type": "execute_result",
          "data": {
            "text/plain": [
              "((4846, 24, 24), (4846,))"
            ]
          },
          "metadata": {
            "tags": []
          },
          "execution_count": 31
        }
      ]
    },
    {
      "metadata": {
        "id": "-jDNNdM5TiUQ",
        "colab_type": "code",
        "colab": {
          "autoexec": {
            "startup": false,
            "wait_interval": 0
          }
        }
      },
      "cell_type": "code",
      "source": [
        "X_train, X_test, y_train, y_test = train_test_split(obj[0], obj[1], test_size = 0.1, random_state = 42)"
      ],
      "execution_count": 0,
      "outputs": []
    },
    {
      "metadata": {
        "id": "5AXwOZU8UM0l",
        "colab_type": "code",
        "colab": {
          "autoexec": {
            "startup": false,
            "wait_interval": 0
          }
        }
      },
      "cell_type": "code",
      "source": [
        "X_train, X_valid, y_train, y_valid = train_test_split(X_train, y_train, test_size= 0.05, random_state = 42)"
      ],
      "execution_count": 0,
      "outputs": []
    },
    {
      "metadata": {
        "id": "DZGFkwm_UYCP",
        "colab_type": "code",
        "colab": {
          "autoexec": {
            "startup": false,
            "wait_interval": 0
          },
          "base_uri": "https://localhost:8080/",
          "height": 85
        },
        "outputId": "9fd14811-c833-4b90-a650-87a9f9f8c54d",
        "executionInfo": {
          "status": "ok",
          "timestamp": 1526521893468,
          "user_tz": -420,
          "elapsed": 943,
          "user": {
            "displayName": "Hoang Anh Pham",
            "photoUrl": "//lh5.googleusercontent.com/-RsMYleIbivY/AAAAAAAAAAI/AAAAAAAAAyo/6fXeQuJdZqM/s50-c-k-no/photo.jpg",
            "userId": "110104664190971355713"
          }
        }
      },
      "cell_type": "code",
      "source": [
        "print(\"Data: \")\n",
        "print(\"Train Data: \", len(X_train))\n",
        "print(\"Valid Data: \", len(X_valid))\n",
        "print(\"Test Data: \", len(X_test))"
      ],
      "execution_count": 34,
      "outputs": [
        {
          "output_type": "stream",
          "text": [
            "Data: \n",
            "Train Data:  4142\n",
            "Valid Data:  219\n",
            "Test Data:  485\n"
          ],
          "name": "stdout"
        }
      ]
    },
    {
      "metadata": {
        "id": "aECikKN72i3d",
        "colab_type": "code",
        "colab": {
          "autoexec": {
            "startup": false,
            "wait_interval": 0
          },
          "base_uri": "https://localhost:8080/",
          "height": 34
        },
        "outputId": "78b6921e-8ae0-40f1-cefa-0f7a231d7b31",
        "executionInfo": {
          "status": "ok",
          "timestamp": 1526521899074,
          "user_tz": -420,
          "elapsed": 1190,
          "user": {
            "displayName": "Hoang Anh Pham",
            "photoUrl": "//lh5.googleusercontent.com/-RsMYleIbivY/AAAAAAAAAAI/AAAAAAAAAyo/6fXeQuJdZqM/s50-c-k-no/photo.jpg",
            "userId": "110104664190971355713"
          }
        }
      },
      "cell_type": "code",
      "source": [
        "# X_train = X_train.reshape((X_train.shape[0], 1) + X_train.shape[1:3])\n",
        "# X_test = np.reshape((X_test.shape[0], 1) + X_test.shape[1:3])\n",
        "# X_valid = np.reshape((X_valid.shape[0], 1) + X_valid.shape[1:3])\n",
        "X_train = np.reshape(X_train, newshape=(X_train.shape[0], X_train.shape[1], X_train.shape[2], 1))\n",
        "X_valid = np.reshape(X_valid, newshape=(X_valid.shape[0], X_valid.shape[1], X_valid.shape[2], 1))\n",
        "X_test = np.reshape(X_test, newshape=(X_test.shape[0], X_test.shape[1], X_test.shape[2], 1))\n",
        "\n",
        "y_train = to_categorical(y_train, num_classes=2)\n",
        "y_test = to_categorical(y_test, num_classes=2)\n",
        "y_valid = to_categorical(y_valid, num_classes=2)\n",
        "\n",
        "print(X_train.shape, y_train.shape)"
      ],
      "execution_count": 35,
      "outputs": [
        {
          "output_type": "stream",
          "text": [
            "(4142, 24, 24, 1) (4142, 2)\n"
          ],
          "name": "stdout"
        }
      ]
    },
    {
      "metadata": {
        "id": "psz-soTFUrya",
        "colab_type": "code",
        "colab": {
          "autoexec": {
            "startup": false,
            "wait_interval": 0
          }
        }
      },
      "cell_type": "code",
      "source": [
        "_, _img_rows, _img_cols, _channels = X_train.shape"
      ],
      "execution_count": 0,
      "outputs": []
    },
    {
      "metadata": {
        "id": "Esgu9Gcfb_-p",
        "colab_type": "code",
        "colab": {
          "autoexec": {
            "startup": false,
            "wait_interval": 0
          },
          "base_uri": "https://localhost:8080/",
          "height": 5664
        },
        "outputId": "12a3d8df-85e2-4b3e-c354-b5d32098aa56",
        "executionInfo": {
          "status": "ok",
          "timestamp": 1526537641562,
          "user_tz": -420,
          "elapsed": 195734,
          "user": {
            "displayName": "Hoang Anh Pham",
            "photoUrl": "//lh5.googleusercontent.com/-RsMYleIbivY/AAAAAAAAAAI/AAAAAAAAAyo/6fXeQuJdZqM/s50-c-k-no/photo.jpg",
            "userId": "110104664190971355713"
          }
        }
      },
      "cell_type": "code",
      "source": [
        "model = Sequential()\n",
        "\n",
        "#Input\n",
        "model.add(Convolution2D(32, (3, 3), padding='same',\n",
        "                        input_shape=(_img_rows, _img_cols, _channels)))\n",
        "model.add(Activation('relu'))\n",
        "model.add(Convolution2D(32, (3, 3)))\n",
        "model.add(Activation('relu'))\n",
        "model.add(MaxPooling2D(pool_size=(2, 2)))\n",
        "model.add(Dropout(0.25))\n",
        "\n",
        "model.add(Convolution2D(64, (3, 3), padding='same'))\n",
        "model.add(Activation('relu'))\n",
        "model.add(Convolution2D(64, (3, 3)))\n",
        "model.add(Activation('relu'))\n",
        "model.add(MaxPooling2D(pool_size=(2, 2)))\n",
        "model.add(Dropout(0.25))\n",
        "\n",
        "model.add(Convolution2D(128, (3, 3), padding='same'))\n",
        "model.add(Activation('relu'))\n",
        "model.add(Convolution2D(128, (3, 3)))\n",
        "model.add(Activation('relu'))\n",
        "model.add(MaxPooling2D(pool_size=(2, 2)))\n",
        "model.add(Dropout(0.25))\n",
        "\n",
        "model.add(Flatten())\n",
        "model.add(Dense(512))\n",
        "model.add(Activation('relu'))\n",
        "model.add(Dropout(0.5))\n",
        "\n",
        "model.add(Dense(2))\n",
        "model.add(Activation('sigmoid'))\n",
        "\n",
        "sgd = SGD(lr = 1e-3, decay=1e-6, momentum=0.9, nesterov=True)\n",
        "model.compile(loss='binary_crossentropy', optimizer=sgd, metrics=['accuracy'])\n",
        "\n",
        "# define early stopping callback\n",
        "earlystop = EarlyStopping(monitor='val_loss', min_delta=0.0001, patience=20, mode='auto')\n",
        "callbacks_list = [earlystop]\n",
        "\n",
        "batch_size = 128\n",
        "epochs = 200\n",
        "\n",
        "model.fit(X_train, y_train, batch_size = batch_size, epochs=epochs, validation_data=(X_valid, y_valid), callbacks=callbacks_list)\n",
        "\n",
        "score = model.evaluate(X_test, y_test)\n",
        "print(\"Test score: \", score)\n"
      ],
      "execution_count": 60,
      "outputs": [
        {
          "output_type": "stream",
          "text": [
            "Train on 4142 samples, validate on 219 samples\n",
            "Epoch 1/200\n",
            "4142/4142 [==============================] - 4s 890us/step - loss: 0.9140 - acc: 0.4971 - val_loss: 0.6903 - val_acc: 0.4726\n",
            "Epoch 2/200\n",
            "4142/4142 [==============================] - 1s 291us/step - loss: 0.6924 - acc: 0.4810 - val_loss: 0.6899 - val_acc: 0.5046\n",
            "Epoch 3/200\n",
            "4142/4142 [==============================] - 1s 282us/step - loss: 0.6918 - acc: 0.4934 - val_loss: 0.6899 - val_acc: 0.5388\n",
            "Epoch 4/200\n",
            "4142/4142 [==============================] - 1s 285us/step - loss: 0.6910 - acc: 0.4989 - val_loss: 0.6880 - val_acc: 0.5251\n",
            "Epoch 5/200\n",
            "4142/4142 [==============================] - 1s 287us/step - loss: 0.6895 - acc: 0.5027 - val_loss: 0.6858 - val_acc: 0.5457\n",
            "Epoch 6/200\n",
            "4142/4142 [==============================] - 1s 283us/step - loss: 0.6885 - acc: 0.5046 - val_loss: 0.6826 - val_acc: 0.5274\n",
            "Epoch 7/200\n",
            "4142/4142 [==============================] - 1s 281us/step - loss: 0.6859 - acc: 0.5022 - val_loss: 0.6764 - val_acc: 0.5525\n",
            "Epoch 8/200\n",
            "4142/4142 [==============================] - 1s 275us/step - loss: 0.6809 - acc: 0.5093 - val_loss: 0.6679 - val_acc: 0.5571\n",
            "Epoch 9/200\n",
            "2688/4142 [==================>...........] - ETA: 0s - loss: 0.6796 - acc: 0.5123"
          ],
          "name": "stdout"
        },
        {
          "output_type": "stream",
          "text": [
            "4142/4142 [==============================] - 1s 283us/step - loss: 0.6781 - acc: 0.5130 - val_loss: 0.6581 - val_acc: 0.5753\n",
            "Epoch 10/200\n",
            "4142/4142 [==============================] - 1s 281us/step - loss: 0.6701 - acc: 0.5227 - val_loss: 0.6540 - val_acc: 0.6826\n",
            "Epoch 11/200\n",
            "4142/4142 [==============================] - 1s 285us/step - loss: 0.6633 - acc: 0.5410 - val_loss: 0.6300 - val_acc: 0.7420\n",
            "Epoch 12/200\n",
            "4142/4142 [==============================] - 1s 285us/step - loss: 0.6450 - acc: 0.5930 - val_loss: 0.5930 - val_acc: 0.8151\n",
            "Epoch 13/200\n",
            "4142/4142 [==============================] - 1s 284us/step - loss: 0.6103 - acc: 0.6696 - val_loss: 0.5304 - val_acc: 0.8402\n",
            "Epoch 14/200\n",
            "4142/4142 [==============================] - 1s 278us/step - loss: 0.5462 - acc: 0.7419 - val_loss: 0.4305 - val_acc: 0.8311\n",
            "Epoch 15/200\n",
            "4142/4142 [==============================] - 1s 276us/step - loss: 0.4864 - acc: 0.7814 - val_loss: 0.4395 - val_acc: 0.8037\n",
            "Epoch 16/200\n",
            "4142/4142 [==============================] - 1s 279us/step - loss: 0.4503 - acc: 0.8021 - val_loss: 0.3642 - val_acc: 0.8447\n",
            "Epoch 17/200\n",
            "4142/4142 [==============================] - 1s 287us/step - loss: 0.4168 - acc: 0.8236 - val_loss: 0.3782 - val_acc: 0.8288\n",
            "Epoch 18/200\n",
            " 384/4142 [=>............................] - ETA: 1s - loss: 0.4095 - acc: 0.8359"
          ],
          "name": "stdout"
        },
        {
          "output_type": "stream",
          "text": [
            "4142/4142 [==============================] - 1s 289us/step - loss: 0.4044 - acc: 0.8315 - val_loss: 0.3187 - val_acc: 0.8767\n",
            "Epoch 19/200\n",
            "4142/4142 [==============================] - 1s 285us/step - loss: 0.3761 - acc: 0.8460 - val_loss: 0.2805 - val_acc: 0.8973\n",
            "Epoch 20/200\n",
            "4142/4142 [==============================] - 1s 279us/step - loss: 0.3505 - acc: 0.8582 - val_loss: 0.2548 - val_acc: 0.8973\n",
            "Epoch 21/200\n",
            "4142/4142 [==============================] - 1s 290us/step - loss: 0.3310 - acc: 0.8662 - val_loss: 0.2275 - val_acc: 0.9384\n",
            "Epoch 22/200\n",
            "4142/4142 [==============================] - 1s 282us/step - loss: 0.3147 - acc: 0.8739 - val_loss: 0.2419 - val_acc: 0.9018\n",
            "Epoch 23/200\n",
            "4142/4142 [==============================] - 1s 279us/step - loss: 0.2928 - acc: 0.8873 - val_loss: 0.1930 - val_acc: 0.9361\n",
            "Epoch 24/200\n",
            "4142/4142 [==============================] - 1s 288us/step - loss: 0.2939 - acc: 0.8844 - val_loss: 0.1950 - val_acc: 0.9406\n",
            "Epoch 25/200\n",
            "4142/4142 [==============================] - 1s 275us/step - loss: 0.2715 - acc: 0.8937 - val_loss: 0.1733 - val_acc: 0.9498\n",
            "Epoch 26/200\n",
            "4142/4142 [==============================] - 1s 290us/step - loss: 0.2600 - acc: 0.9029 - val_loss: 0.1900 - val_acc: 0.9224\n",
            "Epoch 27/200\n",
            " 384/4142 [=>............................] - ETA: 1s - loss: 0.2611 - acc: 0.8919"
          ],
          "name": "stdout"
        },
        {
          "output_type": "stream",
          "text": [
            "4142/4142 [==============================] - 1s 284us/step - loss: 0.2511 - acc: 0.9029 - val_loss: 0.1991 - val_acc: 0.9064\n",
            "Epoch 28/200\n",
            "4142/4142 [==============================] - 1s 280us/step - loss: 0.2538 - acc: 0.9049 - val_loss: 0.1656 - val_acc: 0.9361\n",
            "Epoch 29/200\n",
            "4142/4142 [==============================] - 1s 279us/step - loss: 0.2351 - acc: 0.9096 - val_loss: 0.1697 - val_acc: 0.9201\n",
            "Epoch 30/200\n",
            "4142/4142 [==============================] - 1s 282us/step - loss: 0.2395 - acc: 0.9055 - val_loss: 0.3191 - val_acc: 0.8584\n",
            "Epoch 31/200\n",
            "4142/4142 [==============================] - 1s 292us/step - loss: 0.2356 - acc: 0.9077 - val_loss: 0.1386 - val_acc: 0.9658\n",
            "Epoch 32/200\n",
            "4142/4142 [==============================] - 1s 280us/step - loss: 0.2233 - acc: 0.9147 - val_loss: 0.1441 - val_acc: 0.9680\n",
            "Epoch 33/200\n",
            "4142/4142 [==============================] - 1s 287us/step - loss: 0.2165 - acc: 0.9110 - val_loss: 0.1320 - val_acc: 0.9589\n",
            "Epoch 34/200\n",
            "4142/4142 [==============================] - 1s 279us/step - loss: 0.2132 - acc: 0.9166 - val_loss: 0.1384 - val_acc: 0.9566\n",
            "Epoch 35/200\n",
            "4142/4142 [==============================] - 1s 287us/step - loss: 0.2113 - acc: 0.9208 - val_loss: 0.1708 - val_acc: 0.9269\n",
            "Epoch 36/200\n",
            " 384/4142 [=>............................] - ETA: 1s - loss: 0.1905 - acc: 0.9245"
          ],
          "name": "stdout"
        },
        {
          "output_type": "stream",
          "text": [
            "4142/4142 [==============================] - 1s 284us/step - loss: 0.2005 - acc: 0.9226 - val_loss: 0.1229 - val_acc: 0.9658\n",
            "Epoch 37/200\n",
            "4142/4142 [==============================] - 1s 282us/step - loss: 0.2016 - acc: 0.9243 - val_loss: 0.1263 - val_acc: 0.9566\n",
            "Epoch 38/200\n",
            "4142/4142 [==============================] - 1s 282us/step - loss: 0.1979 - acc: 0.9264 - val_loss: 0.1144 - val_acc: 0.9680\n",
            "Epoch 39/200\n",
            "4142/4142 [==============================] - 1s 282us/step - loss: 0.1905 - acc: 0.9282 - val_loss: 0.1463 - val_acc: 0.9452\n",
            "Epoch 40/200\n",
            "4142/4142 [==============================] - 1s 283us/step - loss: 0.1838 - acc: 0.9323 - val_loss: 0.1201 - val_acc: 0.9543\n",
            "Epoch 41/200\n",
            "4142/4142 [==============================] - 1s 281us/step - loss: 0.1880 - acc: 0.9272 - val_loss: 0.1364 - val_acc: 0.9543\n",
            "Epoch 42/200\n",
            "4142/4142 [==============================] - 1s 280us/step - loss: 0.2009 - acc: 0.9270 - val_loss: 0.1381 - val_acc: 0.9452\n",
            "Epoch 43/200\n",
            "4142/4142 [==============================] - 1s 285us/step - loss: 0.1831 - acc: 0.9296 - val_loss: 0.1111 - val_acc: 0.9726\n",
            "Epoch 44/200\n",
            "4142/4142 [==============================] - 1s 283us/step - loss: 0.1632 - acc: 0.9381 - val_loss: 0.1218 - val_acc: 0.9498\n",
            "Epoch 45/200\n",
            " 128/4142 [..............................] - ETA: 1s - loss: 0.2208 - acc: 0.9375"
          ],
          "name": "stdout"
        },
        {
          "output_type": "stream",
          "text": [
            "4142/4142 [==============================] - 1s 285us/step - loss: 0.1647 - acc: 0.9417 - val_loss: 0.1044 - val_acc: 0.9680\n",
            "Epoch 46/200\n",
            "4142/4142 [==============================] - 1s 288us/step - loss: 0.1683 - acc: 0.9329 - val_loss: 0.1236 - val_acc: 0.9475\n",
            "Epoch 47/200\n",
            "4142/4142 [==============================] - 1s 287us/step - loss: 0.1657 - acc: 0.9389 - val_loss: 0.2755 - val_acc: 0.8995\n",
            "Epoch 48/200\n",
            "4142/4142 [==============================] - 1s 281us/step - loss: 0.1739 - acc: 0.9365 - val_loss: 0.1208 - val_acc: 0.9658\n",
            "Epoch 49/200\n",
            "4142/4142 [==============================] - 1s 278us/step - loss: 0.1525 - acc: 0.9428 - val_loss: 0.1151 - val_acc: 0.9658\n",
            "Epoch 50/200\n",
            "4142/4142 [==============================] - 1s 280us/step - loss: 0.1602 - acc: 0.9424 - val_loss: 0.1063 - val_acc: 0.9726\n",
            "Epoch 51/200\n",
            "4142/4142 [==============================] - 1s 281us/step - loss: 0.1649 - acc: 0.9405 - val_loss: 0.1230 - val_acc: 0.9498\n",
            "Epoch 52/200\n",
            "4142/4142 [==============================] - 1s 281us/step - loss: 0.1583 - acc: 0.9407 - val_loss: 0.1303 - val_acc: 0.9521\n",
            "Epoch 53/200\n",
            "4142/4142 [==============================] - 1s 286us/step - loss: 0.1478 - acc: 0.9434 - val_loss: 0.1040 - val_acc: 0.9703\n",
            "Epoch 54/200\n",
            " 384/4142 [=>............................] - ETA: 0s - loss: 0.1492 - acc: 0.9427"
          ],
          "name": "stdout"
        },
        {
          "output_type": "stream",
          "text": [
            "4142/4142 [==============================] - 1s 282us/step - loss: 0.1494 - acc: 0.9437 - val_loss: 0.1491 - val_acc: 0.9406\n",
            "Epoch 55/200\n",
            "4142/4142 [==============================] - 1s 285us/step - loss: 0.1474 - acc: 0.9460 - val_loss: 0.1087 - val_acc: 0.9680\n",
            "Epoch 56/200\n",
            "4142/4142 [==============================] - 1s 274us/step - loss: 0.1369 - acc: 0.9498 - val_loss: 0.0922 - val_acc: 0.9772\n",
            "Epoch 57/200\n",
            "4142/4142 [==============================] - 1s 279us/step - loss: 0.1440 - acc: 0.9476 - val_loss: 0.0998 - val_acc: 0.9726\n",
            "Epoch 58/200\n",
            "4142/4142 [==============================] - 1s 286us/step - loss: 0.1453 - acc: 0.9460 - val_loss: 0.1011 - val_acc: 0.9680\n",
            "Epoch 59/200\n",
            "4142/4142 [==============================] - 1s 280us/step - loss: 0.1362 - acc: 0.9518 - val_loss: 0.1243 - val_acc: 0.9452\n",
            "Epoch 60/200\n",
            "4142/4142 [==============================] - 1s 278us/step - loss: 0.1375 - acc: 0.9511 - val_loss: 0.0896 - val_acc: 0.9772\n",
            "Epoch 61/200\n",
            "4142/4142 [==============================] - 1s 283us/step - loss: 0.1335 - acc: 0.9516 - val_loss: 0.1024 - val_acc: 0.9772\n",
            "Epoch 62/200\n",
            "4142/4142 [==============================] - 1s 285us/step - loss: 0.1369 - acc: 0.9497 - val_loss: 0.0828 - val_acc: 0.9772\n"
          ],
          "name": "stdout"
        },
        {
          "output_type": "stream",
          "text": [
            "Epoch 63/200\n",
            "4142/4142 [==============================] - 1s 278us/step - loss: 0.1321 - acc: 0.9511 - val_loss: 0.1010 - val_acc: 0.9680\n",
            "Epoch 64/200\n",
            "4142/4142 [==============================] - 1s 281us/step - loss: 0.1330 - acc: 0.9521 - val_loss: 0.1154 - val_acc: 0.9498\n",
            "Epoch 65/200\n",
            "4142/4142 [==============================] - 1s 281us/step - loss: 0.1295 - acc: 0.9523 - val_loss: 0.1027 - val_acc: 0.9589\n",
            "Epoch 66/200\n",
            "4142/4142 [==============================] - 1s 283us/step - loss: 0.1274 - acc: 0.9529 - val_loss: 0.0889 - val_acc: 0.9772\n",
            "Epoch 67/200\n",
            "4142/4142 [==============================] - 1s 286us/step - loss: 0.1245 - acc: 0.9536 - val_loss: 0.0984 - val_acc: 0.9543\n",
            "Epoch 68/200\n",
            "4142/4142 [==============================] - 1s 279us/step - loss: 0.1238 - acc: 0.9565 - val_loss: 0.0838 - val_acc: 0.9817\n",
            "Epoch 69/200\n",
            "4142/4142 [==============================] - 1s 283us/step - loss: 0.1267 - acc: 0.9538 - val_loss: 0.0869 - val_acc: 0.9726\n",
            "Epoch 70/200\n",
            "4142/4142 [==============================] - 1s 280us/step - loss: 0.1187 - acc: 0.9552 - val_loss: 0.0745 - val_acc: 0.9863\n",
            "Epoch 71/200\n",
            "4142/4142 [==============================] - 1s 277us/step - loss: 0.1206 - acc: 0.9573 - val_loss: 0.0818 - val_acc: 0.9772\n"
          ],
          "name": "stdout"
        },
        {
          "output_type": "stream",
          "text": [
            "Epoch 72/200\n",
            "4142/4142 [==============================] - 1s 285us/step - loss: 0.1156 - acc: 0.9575 - val_loss: 0.1130 - val_acc: 0.9543\n",
            "Epoch 73/200\n",
            "4142/4142 [==============================] - 1s 285us/step - loss: 0.1203 - acc: 0.9565 - val_loss: 0.0833 - val_acc: 0.9772\n",
            "Epoch 74/200\n",
            "4142/4142 [==============================] - 1s 292us/step - loss: 0.1188 - acc: 0.9539 - val_loss: 0.1150 - val_acc: 0.9543\n",
            "Epoch 75/200\n",
            "4142/4142 [==============================] - 1s 281us/step - loss: 0.1116 - acc: 0.9597 - val_loss: 0.0800 - val_acc: 0.9795\n",
            "Epoch 76/200\n",
            "4142/4142 [==============================] - 1s 279us/step - loss: 0.1148 - acc: 0.9582 - val_loss: 0.0792 - val_acc: 0.9726\n",
            "Epoch 77/200\n",
            "4142/4142 [==============================] - 1s 276us/step - loss: 0.1117 - acc: 0.9597 - val_loss: 0.0740 - val_acc: 0.9749\n",
            "Epoch 78/200\n",
            "4142/4142 [==============================] - 1s 282us/step - loss: 0.1148 - acc: 0.9569 - val_loss: 0.1106 - val_acc: 0.9543\n",
            "Epoch 79/200\n",
            "4142/4142 [==============================] - 1s 280us/step - loss: 0.1259 - acc: 0.9539 - val_loss: 0.1020 - val_acc: 0.9680\n",
            "Epoch 80/200\n",
            "4142/4142 [==============================] - 1s 285us/step - loss: 0.1198 - acc: 0.9551 - val_loss: 0.0873 - val_acc: 0.9772\n"
          ],
          "name": "stdout"
        },
        {
          "output_type": "stream",
          "text": [
            "Epoch 81/200\n",
            "4142/4142 [==============================] - 1s 286us/step - loss: 0.1123 - acc: 0.9586 - val_loss: 0.0699 - val_acc: 0.9772\n",
            "Epoch 82/200\n",
            "4142/4142 [==============================] - 1s 284us/step - loss: 0.1159 - acc: 0.9600 - val_loss: 0.0816 - val_acc: 0.9726\n",
            "Epoch 83/200\n",
            "4142/4142 [==============================] - 1s 281us/step - loss: 0.1112 - acc: 0.9599 - val_loss: 0.0724 - val_acc: 0.9680\n",
            "Epoch 84/200\n",
            "4142/4142 [==============================] - 1s 278us/step - loss: 0.1095 - acc: 0.9592 - val_loss: 0.0665 - val_acc: 0.9863\n",
            "Epoch 85/200\n",
            "4142/4142 [==============================] - 1s 275us/step - loss: 0.1106 - acc: 0.9598 - val_loss: 0.2567 - val_acc: 0.9018\n",
            "Epoch 86/200\n",
            "4142/4142 [==============================] - 1s 289us/step - loss: 0.1088 - acc: 0.9620 - val_loss: 0.0709 - val_acc: 0.9749\n",
            "Epoch 87/200\n",
            "4142/4142 [==============================] - 1s 292us/step - loss: 0.1061 - acc: 0.9628 - val_loss: 0.0824 - val_acc: 0.9726\n",
            "Epoch 88/200\n",
            "4142/4142 [==============================] - 1s 286us/step - loss: 0.1032 - acc: 0.9633 - val_loss: 0.1309 - val_acc: 0.9384\n",
            "Epoch 89/200\n",
            "4142/4142 [==============================] - 1s 286us/step - loss: 0.1029 - acc: 0.9622 - val_loss: 0.1278 - val_acc: 0.9361\n"
          ],
          "name": "stdout"
        },
        {
          "output_type": "stream",
          "text": [
            "Epoch 90/200\n",
            "4142/4142 [==============================] - 1s 287us/step - loss: 0.1055 - acc: 0.9615 - val_loss: 0.0716 - val_acc: 0.9772\n",
            "Epoch 91/200\n",
            "4142/4142 [==============================] - 1s 292us/step - loss: 0.1054 - acc: 0.9604 - val_loss: 0.0723 - val_acc: 0.9817\n",
            "Epoch 92/200\n",
            "4142/4142 [==============================] - 1s 288us/step - loss: 0.1056 - acc: 0.9632 - val_loss: 0.1264 - val_acc: 0.9543\n",
            "Epoch 93/200\n",
            "4142/4142 [==============================] - 1s 285us/step - loss: 0.1106 - acc: 0.9581 - val_loss: 0.0793 - val_acc: 0.9772\n",
            "Epoch 94/200\n",
            "4142/4142 [==============================] - 1s 285us/step - loss: 0.1017 - acc: 0.9622 - val_loss: 0.0799 - val_acc: 0.9726\n",
            "Epoch 95/200\n",
            "4142/4142 [==============================] - 1s 285us/step - loss: 0.0944 - acc: 0.9649 - val_loss: 0.0786 - val_acc: 0.9635\n",
            "Epoch 96/200\n",
            "4142/4142 [==============================] - 1s 285us/step - loss: 0.0980 - acc: 0.9613 - val_loss: 0.1049 - val_acc: 0.9703\n",
            "Epoch 97/200\n",
            "4142/4142 [==============================] - 1s 293us/step - loss: 0.0910 - acc: 0.9697 - val_loss: 0.0721 - val_acc: 0.9772\n",
            "Epoch 98/200\n",
            "3968/4142 [===========================>..] - ETA: 0s - loss: 0.0942 - acc: 0.9688"
          ],
          "name": "stdout"
        },
        {
          "output_type": "stream",
          "text": [
            "4142/4142 [==============================] - 1s 291us/step - loss: 0.0933 - acc: 0.9692 - val_loss: 0.0702 - val_acc: 0.9840\n",
            "Epoch 99/200\n",
            "4142/4142 [==============================] - 1s 285us/step - loss: 0.0961 - acc: 0.9635 - val_loss: 0.0628 - val_acc: 0.9795\n",
            "Epoch 100/200\n",
            "4142/4142 [==============================] - 1s 284us/step - loss: 0.0991 - acc: 0.9640 - val_loss: 0.0627 - val_acc: 0.9795\n",
            "Epoch 101/200\n",
            "4142/4142 [==============================] - 1s 280us/step - loss: 0.0880 - acc: 0.9675 - val_loss: 0.1240 - val_acc: 0.9498\n",
            "Epoch 102/200\n",
            "4142/4142 [==============================] - 1s 280us/step - loss: 0.0935 - acc: 0.9678 - val_loss: 0.0718 - val_acc: 0.9817\n",
            "Epoch 103/200\n",
            "4142/4142 [==============================] - 1s 285us/step - loss: 0.0952 - acc: 0.9672 - val_loss: 0.0997 - val_acc: 0.9589\n",
            "Epoch 104/200\n",
            "4142/4142 [==============================] - 1s 283us/step - loss: 0.0915 - acc: 0.9662 - val_loss: 0.0778 - val_acc: 0.9703\n",
            "Epoch 105/200\n",
            "4142/4142 [==============================] - 1s 284us/step - loss: 0.0897 - acc: 0.9674 - val_loss: 0.0734 - val_acc: 0.9635\n",
            "Epoch 106/200\n",
            "4142/4142 [==============================] - 1s 278us/step - loss: 0.1011 - acc: 0.9631 - val_loss: 0.0682 - val_acc: 0.9726\n",
            "Epoch 107/200\n",
            " 384/4142 [=>............................] - ETA: 1s - loss: 0.0667 - acc: 0.9857"
          ],
          "name": "stdout"
        },
        {
          "output_type": "stream",
          "text": [
            "4142/4142 [==============================] - 1s 288us/step - loss: 0.0896 - acc: 0.9692 - val_loss: 0.0777 - val_acc: 0.9658\n",
            "Epoch 108/200\n",
            "4142/4142 [==============================] - 1s 283us/step - loss: 0.0946 - acc: 0.9651 - val_loss: 0.0956 - val_acc: 0.9703\n",
            "Epoch 109/200\n",
            "4142/4142 [==============================] - 1s 285us/step - loss: 0.0930 - acc: 0.9670 - val_loss: 0.0601 - val_acc: 0.9772\n",
            "Epoch 110/200\n",
            "4142/4142 [==============================] - 1s 277us/step - loss: 0.0853 - acc: 0.9672 - val_loss: 0.0762 - val_acc: 0.9703\n",
            "Epoch 111/200\n",
            "4142/4142 [==============================] - 1s 272us/step - loss: 0.0827 - acc: 0.9715 - val_loss: 0.0600 - val_acc: 0.9772\n",
            "Epoch 112/200\n",
            "4142/4142 [==============================] - 1s 274us/step - loss: 0.0876 - acc: 0.9681 - val_loss: 0.0654 - val_acc: 0.9795\n",
            "Epoch 113/200\n",
            "4142/4142 [==============================] - 1s 278us/step - loss: 0.0898 - acc: 0.9660 - val_loss: 0.0559 - val_acc: 0.9772\n",
            "Epoch 114/200\n",
            "4142/4142 [==============================] - 1s 276us/step - loss: 0.0808 - acc: 0.9661 - val_loss: 0.0757 - val_acc: 0.9726\n",
            "Epoch 115/200\n",
            "4142/4142 [==============================] - 1s 282us/step - loss: 0.0873 - acc: 0.9678 - val_loss: 0.0773 - val_acc: 0.9726\n"
          ],
          "name": "stdout"
        },
        {
          "output_type": "stream",
          "text": [
            "Epoch 116/200\n",
            "4142/4142 [==============================] - 1s 276us/step - loss: 0.0878 - acc: 0.9681 - val_loss: 0.0564 - val_acc: 0.9772\n",
            "Epoch 117/200\n",
            "4142/4142 [==============================] - 1s 282us/step - loss: 0.0850 - acc: 0.9687 - val_loss: 0.0685 - val_acc: 0.9703\n",
            "Epoch 118/200\n",
            "4142/4142 [==============================] - 1s 272us/step - loss: 0.0827 - acc: 0.9689 - val_loss: 0.0605 - val_acc: 0.9795\n",
            "Epoch 119/200\n",
            "4142/4142 [==============================] - 1s 281us/step - loss: 0.0824 - acc: 0.9707 - val_loss: 0.0752 - val_acc: 0.9749\n",
            "Epoch 120/200\n",
            "4142/4142 [==============================] - 1s 271us/step - loss: 0.0867 - acc: 0.9686 - val_loss: 0.0769 - val_acc: 0.9680\n",
            "Epoch 121/200\n",
            "4142/4142 [==============================] - 1s 286us/step - loss: 0.0867 - acc: 0.9685 - val_loss: 0.0684 - val_acc: 0.9795\n",
            "Epoch 122/200\n",
            "4142/4142 [==============================] - 1s 275us/step - loss: 0.0784 - acc: 0.9722 - val_loss: 0.0654 - val_acc: 0.9817\n",
            "Epoch 123/200\n",
            "4142/4142 [==============================] - 1s 282us/step - loss: 0.0853 - acc: 0.9696 - val_loss: 0.0687 - val_acc: 0.9726\n",
            "Epoch 124/200\n",
            "3712/4142 [=========================>....] - ETA: 0s - loss: 0.0844 - acc: 0.9689"
          ],
          "name": "stdout"
        },
        {
          "output_type": "stream",
          "text": [
            "4142/4142 [==============================] - 1s 281us/step - loss: 0.0850 - acc: 0.9684 - val_loss: 0.0604 - val_acc: 0.9749\n",
            "Epoch 125/200\n",
            "4142/4142 [==============================] - 1s 274us/step - loss: 0.0761 - acc: 0.9736 - val_loss: 0.0605 - val_acc: 0.9795\n",
            "Epoch 126/200\n",
            "4142/4142 [==============================] - 1s 274us/step - loss: 0.0836 - acc: 0.9692 - val_loss: 0.0460 - val_acc: 0.9863\n",
            "Epoch 127/200\n",
            "4142/4142 [==============================] - 1s 284us/step - loss: 0.0749 - acc: 0.9716 - val_loss: 0.0952 - val_acc: 0.9566\n",
            "Epoch 128/200\n",
            "4142/4142 [==============================] - 1s 274us/step - loss: 0.0796 - acc: 0.9704 - val_loss: 0.0673 - val_acc: 0.9749\n",
            "Epoch 129/200\n",
            "4142/4142 [==============================] - 1s 276us/step - loss: 0.0797 - acc: 0.9743 - val_loss: 0.0728 - val_acc: 0.9726\n",
            "Epoch 130/200\n",
            "4142/4142 [==============================] - 1s 276us/step - loss: 0.0844 - acc: 0.9685 - val_loss: 0.1220 - val_acc: 0.9589\n",
            "Epoch 131/200\n",
            "4142/4142 [==============================] - 1s 280us/step - loss: 0.0823 - acc: 0.9680 - val_loss: 0.0547 - val_acc: 0.9772\n",
            "Epoch 132/200\n",
            "4142/4142 [==============================] - 1s 282us/step - loss: 0.0801 - acc: 0.9687 - val_loss: 0.0659 - val_acc: 0.9772\n",
            "Epoch 133/200\n",
            " 384/4142 [=>............................] - ETA: 1s - loss: 0.0899 - acc: 0.9570"
          ],
          "name": "stdout"
        },
        {
          "output_type": "stream",
          "text": [
            "4142/4142 [==============================] - 1s 276us/step - loss: 0.0735 - acc: 0.9736 - val_loss: 0.0657 - val_acc: 0.9703\n",
            "Epoch 134/200\n",
            "4142/4142 [==============================] - 1s 280us/step - loss: 0.0736 - acc: 0.9721 - val_loss: 0.0593 - val_acc: 0.9726\n",
            "Epoch 135/200\n",
            "4142/4142 [==============================] - 1s 274us/step - loss: 0.0806 - acc: 0.9720 - val_loss: 0.0639 - val_acc: 0.9772\n",
            "Epoch 136/200\n",
            "4142/4142 [==============================] - 1s 280us/step - loss: 0.0714 - acc: 0.9739 - val_loss: 0.1143 - val_acc: 0.9680\n",
            "Epoch 137/200\n",
            "4142/4142 [==============================] - 1s 277us/step - loss: 0.0827 - acc: 0.9672 - val_loss: 0.1090 - val_acc: 0.9635\n",
            "Epoch 138/200\n",
            "4142/4142 [==============================] - 1s 282us/step - loss: 0.0756 - acc: 0.9736 - val_loss: 0.0692 - val_acc: 0.9726\n",
            "Epoch 139/200\n",
            "4142/4142 [==============================] - 1s 276us/step - loss: 0.0697 - acc: 0.9746 - val_loss: 0.0572 - val_acc: 0.9749\n",
            "Epoch 140/200\n",
            "4142/4142 [==============================] - 1s 279us/step - loss: 0.0637 - acc: 0.9769 - val_loss: 0.0473 - val_acc: 0.9840\n",
            "Epoch 141/200\n",
            "4142/4142 [==============================] - 1s 278us/step - loss: 0.0749 - acc: 0.9730 - val_loss: 0.0582 - val_acc: 0.9749\n"
          ],
          "name": "stdout"
        },
        {
          "output_type": "stream",
          "text": [
            "Epoch 142/200\n",
            "4142/4142 [==============================] - 1s 275us/step - loss: 0.0773 - acc: 0.9716 - val_loss: 0.0626 - val_acc: 0.9840\n",
            "Epoch 143/200\n",
            "4142/4142 [==============================] - 1s 283us/step - loss: 0.0760 - acc: 0.9701 - val_loss: 0.0442 - val_acc: 0.9954\n",
            "Epoch 144/200\n",
            "4142/4142 [==============================] - 1s 271us/step - loss: 0.0697 - acc: 0.9725 - val_loss: 0.0434 - val_acc: 0.9909\n",
            "Epoch 145/200\n",
            "4142/4142 [==============================] - 1s 276us/step - loss: 0.0718 - acc: 0.9730 - val_loss: 0.0675 - val_acc: 0.9726\n",
            "Epoch 146/200\n",
            "4142/4142 [==============================] - 1s 273us/step - loss: 0.0748 - acc: 0.9748 - val_loss: 0.0438 - val_acc: 0.9954\n",
            "Epoch 147/200\n",
            "4142/4142 [==============================] - 1s 274us/step - loss: 0.0722 - acc: 0.9757 - val_loss: 0.0679 - val_acc: 0.9817\n",
            "Epoch 148/200\n",
            "4142/4142 [==============================] - 1s 271us/step - loss: 0.0728 - acc: 0.9711 - val_loss: 0.1019 - val_acc: 0.9680\n",
            "Epoch 149/200\n",
            "4142/4142 [==============================] - 1s 270us/step - loss: 0.0716 - acc: 0.9734 - val_loss: 0.0734 - val_acc: 0.9749\n",
            "Epoch 150/200\n",
            "3712/4142 [=========================>....] - ETA: 0s - loss: 0.0658 - acc: 0.9758"
          ],
          "name": "stdout"
        },
        {
          "output_type": "stream",
          "text": [
            "4142/4142 [==============================] - 1s 275us/step - loss: 0.0642 - acc: 0.9759 - val_loss: 0.0856 - val_acc: 0.9726\n",
            "Epoch 151/200\n",
            "4142/4142 [==============================] - 1s 274us/step - loss: 0.0692 - acc: 0.9740 - val_loss: 0.2082 - val_acc: 0.9315\n",
            "Epoch 152/200\n",
            "4142/4142 [==============================] - 1s 276us/step - loss: 0.0730 - acc: 0.9722 - val_loss: 0.0743 - val_acc: 0.9726\n",
            "Epoch 153/200\n",
            "4142/4142 [==============================] - 1s 275us/step - loss: 0.0659 - acc: 0.9749 - val_loss: 0.0586 - val_acc: 0.9749\n",
            "Epoch 154/200\n",
            "4142/4142 [==============================] - 1s 277us/step - loss: 0.0678 - acc: 0.9732 - val_loss: 0.0553 - val_acc: 0.9726\n",
            "Epoch 155/200\n",
            "4142/4142 [==============================] - 1s 271us/step - loss: 0.0667 - acc: 0.9754 - val_loss: 0.0498 - val_acc: 0.9840\n",
            "Epoch 156/200\n",
            "4142/4142 [==============================] - 1s 269us/step - loss: 0.0665 - acc: 0.9740 - val_loss: 0.0974 - val_acc: 0.9726\n",
            "Epoch 157/200\n",
            "4142/4142 [==============================] - 1s 278us/step - loss: 0.0683 - acc: 0.9756 - val_loss: 0.0554 - val_acc: 0.9795\n",
            "Epoch 158/200\n",
            "4142/4142 [==============================] - 1s 279us/step - loss: 0.0648 - acc: 0.9780 - val_loss: 0.0703 - val_acc: 0.9635\n",
            "Epoch 159/200\n",
            " 128/4142 [..............................] - ETA: 1s - loss: 0.0787 - acc: 0.9766"
          ],
          "name": "stdout"
        },
        {
          "output_type": "stream",
          "text": [
            "4142/4142 [==============================] - 1s 279us/step - loss: 0.0683 - acc: 0.9756 - val_loss: 0.0951 - val_acc: 0.9658\n",
            "Epoch 160/200\n",
            "4142/4142 [==============================] - 1s 281us/step - loss: 0.0660 - acc: 0.9742 - val_loss: 0.0687 - val_acc: 0.9680\n",
            "Epoch 161/200\n",
            "4142/4142 [==============================] - 1s 272us/step - loss: 0.0659 - acc: 0.9767 - val_loss: 0.0524 - val_acc: 0.9817\n",
            "Epoch 162/200\n",
            "4142/4142 [==============================] - 1s 277us/step - loss: 0.0593 - acc: 0.9763 - val_loss: 0.0539 - val_acc: 0.9840\n",
            "Epoch 163/200\n",
            "4142/4142 [==============================] - 1s 274us/step - loss: 0.0640 - acc: 0.9778 - val_loss: 0.0492 - val_acc: 0.9886\n",
            "Epoch 164/200\n",
            "4142/4142 [==============================] - 1s 271us/step - loss: 0.0645 - acc: 0.9739 - val_loss: 0.0518 - val_acc: 0.9772\n",
            "485/485 [==============================] - 0s 200us/step\n",
            "Test score:  [0.06596696213195004, 0.977319587628866]\n"
          ],
          "name": "stdout"
        }
      ]
    },
    {
      "metadata": {
        "id": "5x7IBOwhvl6r",
        "colab_type": "code",
        "colab": {
          "autoexec": {
            "startup": false,
            "wait_interval": 0
          }
        }
      },
      "cell_type": "code",
      "source": [
        "#Save model\n",
        "now = time.time()\n",
        "model_json = model.to_json()\n",
        "with open('./drive/ColabNotebooks/Eye/trained_model/model_json_' + str(now) + '.json', 'w') as f:\n",
        "  f.write(model_json)\n",
        "f.close()\n",
        "model.save_weights('./drive/ColabNotebooks/Eye/trained_model/weight_' + str(now) + '.h5', overwrite=True)"
      ],
      "execution_count": 0,
      "outputs": []
    },
    {
      "metadata": {
        "id": "X2eLAO-892tK",
        "colab_type": "code",
        "colab": {
          "autoexec": {
            "startup": false,
            "wait_interval": 0
          }
        }
      },
      "cell_type": "code",
      "source": [
        ""
      ],
      "execution_count": 0,
      "outputs": []
    }
  ]
}