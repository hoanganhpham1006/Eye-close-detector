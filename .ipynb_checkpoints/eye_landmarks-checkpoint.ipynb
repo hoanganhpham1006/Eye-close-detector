{
 "cells": [
  {
   "cell_type": "code",
   "execution_count": 6,
   "metadata": {},
   "outputs": [],
   "source": [
    "\n",
    "import numpy as np\n",
    "import argparse\n",
    "import cv2\n",
    "import pickle"
   ]
  },
  {
   "cell_type": "code",
   "execution_count": 2,
   "metadata": {},
   "outputs": [],
   "source": [
    "detector = dlib.get_frontal_face_detector()\n",
    "predictor = dlib.shape_predictor(\"/home/hoanganhpham/python/EyeDetect/shape_predictor_68_face_landmarks.dat\")\n",
    "\n",
    "image = cv2.imread(\"/home/hoanganhpham/python/EyeDetect/close.jpg\")\n",
    "image = imutils.resize(image, width=500)\n",
    "gray = cv2.cvtColor(image, cv2.COLOR_BGR2GRAY)\n",
    "\n",
    "# detect faces in the grayscale image\n",
    "rects = detector(gray, 3)\n",
    "eye_images = []\n",
    "\n",
    "for (i, rect) in enumerate(rects):\n",
    "    # determine the facial landmarks for the face region, then\n",
    "    # convert the landmark (x, y)-coordinates to a NumPy array\n",
    "    shape = predictor(gray, rect)\n",
    "    shape = face_utils.shape_to_np(shape)\n",
    "\n",
    "    # loop over the face parts individually\n",
    "    for (name, (i, j)) in face_utils.FACIAL_LANDMARKS_IDXS.items():\n",
    "        # clone the original image so we can draw on it, then\n",
    "        # display the name of the face part on the image\n",
    "        if name == \"left_eye\" or name == \"right_eye\":\n",
    "            clone = image.copy()\n",
    "            cv2.putText(clone, name, (10, 30), cv2.FONT_HERSHEY_SIMPLEX, 0.7, (0, 0, 255), 2)\n",
    "\n",
    "            # loop over the subset of facial landmarks, drawing the\n",
    "            # specific face part\n",
    "            for (x, y) in shape[i:j]: #shape = [[x1, y1], [x2, y2], ...] / shape[i:j] = shape[i+1], shape[i+1], .. , shape[j]\n",
    "                cv2.circle(clone, (x, y), 1, (0, 0, 255), -1)\n",
    "            # extract the ROI of the face region as a separate image\n",
    "            (x, y, w, h) = cv2.boundingRect(np.array([shape[i:j]]))\n",
    "            #to square\n",
    "            #get center\n",
    "            x = x + w/2\n",
    "            y = y + h/2\n",
    "            #make square\n",
    "            if w != h:\n",
    "                if w > h:\n",
    "                    h = w\n",
    "                else:\n",
    "                    w = h\n",
    "            x = x - w/2\n",
    "            y = y - h/2\n",
    "            roi = gray[y:y + h, x:x + w]\n",
    "            roi = imutils.resize(roi, width=24, inter=cv2.INTER_CUBIC)\n",
    "            eye_images.append(roi)\n",
    "            # show the particular face part\n",
    "\n",
    "#save to file\n",
    "eye_images = np.array(eye_images)\n",
    "with open('/home/hoanganhpham/python/EyeDetect/eye_images.pkl', 'wb') as f:\n",
    "    pickle.dump(eye_images, f)\n",
    "f.close()"
   ]
  },
  {
   "cell_type": "code",
   "execution_count": 7,
   "metadata": {},
   "outputs": [],
   "source": []
  },
  {
   "cell_type": "code",
   "execution_count": null,
   "metadata": {},
   "outputs": [],
   "source": []
  }
 ],
 "metadata": {
  "kernelspec": {
   "display_name": "Python 3",
   "language": "python",
   "name": "python3"
  },
  "language_info": {
   "codemirror_mode": {
    "name": "ipython",
    "version": 3
   },
   "file_extension": ".py",
   "mimetype": "text/x-python",
   "name": "python",
   "nbconvert_exporter": "python",
   "pygments_lexer": "ipython3",
   "version": "3.5.2"
  }
 },
 "nbformat": 4,
 "nbformat_minor": 2
}
