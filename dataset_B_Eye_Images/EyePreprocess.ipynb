{
 "cells": [
  {
   "cell_type": "code",
   "execution_count": 1,
   "metadata": {},
   "outputs": [],
   "source": [
    "import cv2\n",
    "import numpy as np\n",
    "import glob\n",
    "import pickle"
   ]
  },
  {
   "cell_type": "code",
   "execution_count": 2,
   "metadata": {},
   "outputs": [],
   "source": [
    "features=[]\n",
    "classes=[]\n",
    "\n",
    "#Open-eye\n",
    "for image_file in glob.glob('/home/hoanganhpham/python/EyeDetect/dataset_B_Eye_Images/openRightEyes/*.jpg'):\n",
    "    img = cv2.imread(image_file, 0)\n",
    "    features.append(img)\n",
    "    classes.append(1)\n",
    "for image_file in glob.glob('/home/hoanganhpham/python/EyeDetect/dataset_B_Eye_Images/openLeftEyes/*.jpg'):\n",
    "    img = cv2.imread(image_file, 0)\n",
    "    features.append(img)\n",
    "    classes.append(1)\n",
    "\n",
    "#Close-eye\n",
    "for image_file in glob.glob('/home/hoanganhpham/python/EyeDetect/dataset_B_Eye_Images/closedLeftEyes/*.jpg'):\n",
    "    img = cv2.imread(image_file, 0)\n",
    "    features.append(img)\n",
    "    classes.append(0)\n",
    "for image_file in glob.glob('/home/hoanganhpham/python/EyeDetect/dataset_B_Eye_Images/closedRightEyes/*.jpg'):\n",
    "    img = cv2.imread(image_file, 0)\n",
    "    features.append(img)\n",
    "    classes.append(0)\n"
   ]
  },
  {
   "cell_type": "code",
   "execution_count": 10,
   "metadata": {},
   "outputs": [
    {
     "data": {
      "text/plain": [
       "4846"
      ]
     },
     "execution_count": 10,
     "metadata": {},
     "output_type": "execute_result"
    }
   ],
   "source": [
    "len(features)"
   ]
  },
  {
   "cell_type": "code",
   "execution_count": 12,
   "metadata": {},
   "outputs": [
    {
     "data": {
      "text/plain": [
       "(4846, 24, 24)"
      ]
     },
     "execution_count": 12,
     "metadata": {},
     "output_type": "execute_result"
    }
   ],
   "source": [
    "features = np.array(features)\n",
    "classes = np.array(classes)\n",
    "with open('/home/hoanganhpham/python/EyeDetect/train_data.pkl', 'wb') as f:\n",
    "    pickle.dump([features, classes], f)\n",
    "features.shape"
   ]
  },
  {
   "cell_type": "code",
   "execution_count": null,
   "metadata": {},
   "outputs": [],
   "source": []
  }
 ],
 "metadata": {
  "kernelspec": {
   "display_name": "Python 3",
   "language": "python",
   "name": "python3"
  },
  "language_info": {
   "codemirror_mode": {
    "name": "ipython",
    "version": 3
   },
   "file_extension": ".py",
   "mimetype": "text/x-python",
   "name": "python",
   "nbconvert_exporter": "python",
   "pygments_lexer": "ipython3",
   "version": "3.5.2"
  }
 },
 "nbformat": 4,
 "nbformat_minor": 2
}
