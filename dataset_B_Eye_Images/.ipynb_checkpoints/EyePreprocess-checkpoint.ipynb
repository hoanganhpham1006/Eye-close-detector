{
 "cells": [
  {
   "cell_type": "code",
   "execution_count": 1,
   "metadata": {},
   "outputs": [],
   "source": [
    "import cv2\n",
    "import numpy as np\n",
    "import glob\n",
    "import pickle"
   ]
  },
  {
   "cell_type": "code",
   "execution_count": null,
   "metadata": {},
   "outputs": [],
   "source": [
    "#Positive\n",
    "for image_file in glob.glob('/home/hoanganhpham/python/CarDetect/vehicles/vehicles/GTI_Far/*.png'):\n",
    "    img = cv2.imread(image_file, cv2.IMREAD_COLOR)\n",
    "    img = cv2.resize(img, (64, 64)) \n",
    "    features.append(img)\n",
    "    classes.append(1)\n",
    "for image_file in glob.glob('/home/hoanganhpham/python/CarDetect/vehicles/vehicles/GTI_Left/*.png'):\n",
    "    img = cv2.imread(image_file, cv2.IMREAD_COLOR)\n",
    "    img = cv2.resize(img, (64, 64)) \n",
    "    features.append(img)\n",
    "    classes.append(1)\n",
    "#Negative\n",
    "for image_file in glob.glob('/home/hoanganhpham/python/EyeDetect/dataset_B_Eye_Images/closedLeftEyes/*.jpg'):\n",
    "    img = cv2.imread(image_file, 0)\n",
    "    features.append(img)\n",
    "    classes.append(0)\n",
    "for image_file in glob.glob('/home/hoanganhpham/python/EyeDetect/dataset_B_Eye_Images/closedRightEyes/*.jpg'):\n",
    "    img = cv2.imread(image_file, 0)\n",
    "    features.append(img)\n",
    "    classes.append(0)\n"
   ]
  }
 ],
 "metadata": {
  "kernelspec": {
   "display_name": "Python 3",
   "language": "python",
   "name": "python3"
  },
  "language_info": {
   "codemirror_mode": {
    "name": "ipython",
    "version": 3
   },
   "file_extension": ".py",
   "mimetype": "text/x-python",
   "name": "python",
   "nbconvert_exporter": "python",
   "pygments_lexer": "ipython3",
   "version": "3.5.2"
  }
 },
 "nbformat": 4,
 "nbformat_minor": 2
}
